{
 "cells": [
  {
   "cell_type": "code",
   "execution_count": 1,
   "metadata": {},
   "outputs": [
    {
     "name": "stdout",
     "output_type": "stream",
     "text": [
      "2024-07-01 20:59:39.428033\n",
      "2024-07-02 06:59:39.428033\n",
      "2024-07-02 18:59:39.428033\n"
     ]
    }
   ],
   "source": [
    "import datetime\n",
    "import pyupbit\n",
    "\n",
    "\n",
    "# end_time = start_time + datetime.timedelta(days=1) - datetime.timedelta(hours=2)\n",
    "# end_time = start_time + datetime.timedelta(hours=21)\n",
    "\n",
    "time_now = datetime.datetime.now() \n",
    "time_next = time_now + datetime.timedelta(hours=10)\n",
    "time_miss = time_now + datetime.timedelta(days=1) - datetime.timedelta(hours=2)\n",
    "\n",
    "print(time_now)\n",
    "print(time_next)\n",
    "print(time_miss)\n",
    "\n",
    "\n"
   ]
  },
  {
   "cell_type": "code",
   "execution_count": null,
   "metadata": {},
   "outputs": [],
   "source": [
    "import datetime\n",
    "import pyupbit\n",
    "\n",
    "df = pyupbit.get_ohlcv(\"KRW-BTC\", interval=\"day\", count=1)\n",
    "\n",
    "# bbum: 9:00 AM -> 10:00 AM\n",
    "start_time = df.index[0] + datetime.timedelta(hours=1)\n"
   ]
  }
 ],
 "metadata": {
  "kernelspec": {
   "display_name": "Python 3",
   "language": "python",
   "name": "python3"
  },
  "language_info": {
   "codemirror_mode": {
    "name": "ipython",
    "version": 3
   },
   "file_extension": ".py",
   "mimetype": "text/x-python",
   "name": "python",
   "nbconvert_exporter": "python",
   "pygments_lexer": "ipython3",
   "version": "3.11.2"
  }
 },
 "nbformat": 4,
 "nbformat_minor": 2
}
